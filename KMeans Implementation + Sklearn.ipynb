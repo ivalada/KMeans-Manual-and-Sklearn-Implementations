{
 "cells": [
  {
   "cell_type": "markdown",
   "id": "1d9e0fbf",
   "metadata": {},
   "source": [
    "#### Importing modules"
   ]
  },
  {
   "cell_type": "code",
   "execution_count": 1,
   "id": "3de1495b",
   "metadata": {},
   "outputs": [],
   "source": [
    "import numpy as np\n",
    "import pandas as pd\n",
    "from sklearn import datasets\n",
    "from sklearn.model_selection import train_test_split\n",
    "from sklearn import cluster\n",
    "from sklearn.metrics import accuracy_score\n",
    "from itertools import permutations"
   ]
  },
  {
   "cell_type": "markdown",
   "id": "998ea991",
   "metadata": {},
   "source": [
    "#### KMeans class"
   ]
  },
  {
   "cell_type": "code",
   "execution_count": 2,
   "id": "75cec946",
   "metadata": {},
   "outputs": [],
   "source": [
    "class KMeans:  \n",
    "    # Constructor\n",
    "    def __init__(self, num_clusters=8, num_centroid_seeds=10, metric='l1', max_iter=300):\n",
    "        self.num_clusters = num_clusters # Кол-во кластеров\n",
    "        self.num_centroid_seeds = num_centroid_seeds # Кол-во генераций начальных центров кластеров\n",
    "        self.clusters = [i for i in range(num_clusters)] # Кластеры\n",
    "        self.metric = {'l1': self.l1, 'euclid': self.euclid, 'chebyshev': self.chebyshev}[metric] # Метрика\n",
    "        self.max_iter = max_iter # Максимальное число итераций\n",
    "    \n",
    "    # l1 metric\n",
    "    def l1(self, samples, points):\n",
    "        return np.array([[np.sum( np.abs(sample - point) ) for point in points] for sample in samples])\n",
    "    \n",
    "    # l2 metric\n",
    "    def euclid(self, samples, points):\n",
    "        return np.array([[np.sqrt( np.sum((sample - point)**2) ) for point in points] for sample in samples])\n",
    "    \n",
    "    # l_infinity metric\n",
    "    def chebyshev(self, samples, points):\n",
    "        return np.array([[np.max( np.abs(sample - point) ) for point in points] for sample in samples])\n",
    "    \n",
    "    # Fit method\n",
    "    def fit(self, x):\n",
    "        best_clusters_centers = None\n",
    "        best_inertia = np.Infinity\n",
    "        for i in range(self.num_centroid_seeds):\n",
    "            self.cluster_centers = x[np.random.choice(x.shape[0], self.num_clusters, replace=False)]\n",
    "            clusters_dist = self.metric(x, self.cluster_centers)\n",
    "            x_clusters = np.array([np.argmin(elem) for elem in clusters_dist])\n",
    "            \n",
    "            current_cluster_centers, current_inertia = self.adjust_centroids(x_clusters)\n",
    "            if (current_inertia < best_inertia):\n",
    "                best_inertia = current_inertia\n",
    "                best_cluster_centers = current_cluster_centers\n",
    "        \n",
    "        self.cluster_centers = best_cluster_centers\n",
    "    \n",
    "    # Shift clusters center points\n",
    "    def adjust_centroids(self, x_clusters):\n",
    "        prev_cluster_centers = list()\n",
    "        for i in range(self.max_iter):\n",
    "            self.cluster_centers = list()\n",
    "            for cluster in self.clusters:\n",
    "                indices = np.where(x_clusters==cluster)[0]\n",
    "                if indices.shape[0] == 0: continue\n",
    "                self.cluster_centers.append( np.mean(x[indices], axis=0) )\n",
    "            clusters_dist = self.metric(x, self.cluster_centers)\n",
    "            x_clusters = np.array([np.argmin(elem) for elem in clusters_dist])\n",
    "            if (np.array_equal(prev_cluster_centers, self.cluster_centers)): break\n",
    "            prev_cluster_centers = self.cluster_centers\n",
    "        inertia = np.sum([min(elem) for elem in clusters_dist])\n",
    "        return (self.cluster_centers, inertia)\n",
    "    \n",
    "    # Predict method\n",
    "    def predict(self, x):\n",
    "        clusters_dist = self.metric(x, self.cluster_centers)\n",
    "        return np.array( [np.argmin(elem) for elem in clusters_dist] )"
   ]
  },
  {
   "cell_type": "code",
   "execution_count": 3,
   "id": "c8da0694",
   "metadata": {},
   "outputs": [],
   "source": [
    "# Evaluate clusterization accuracy\n",
    "def accuracy(y_pred, y_real):\n",
    "    max_eff = 0\n",
    "    clusters = np.unique(y_pred)\n",
    "    for combination in list(permutations(clusters, clusters.shape[0])):\n",
    "        new_clusters = list()\n",
    "        for value in y_pred:\n",
    "            new_clusters.append(combination[value])\n",
    "        accuracy = accuracy_score(new_clusters, y_real)\n",
    "        if (accuracy > max_eff): max_eff = accuracy\n",
    "    return max_eff*100"
   ]
  },
  {
   "cell_type": "code",
   "execution_count": 4,
   "id": "8a6768f8",
   "metadata": {
    "scrolled": false
   },
   "outputs": [
    {
     "name": "stdout",
     "output_type": "stream",
     "text": [
      "iris:\n",
      "manual: accuracy = 89.33333333333333%\n",
      "\n",
      "sklearn, full: accuracy = 89.33333333333333%\n",
      "\n",
      "sklearn, elkan: accuracy = 89.33333333333333%\n"
     ]
    }
   ],
   "source": [
    "iris = datasets.load_iris()\n",
    "x = iris['data']\n",
    "y = iris['target']\n",
    "\n",
    "my_kmeans = KMeans(num_clusters=3, num_centroid_seeds=2, metric='euclid', max_iter=300)\n",
    "my_kmeans.fit(x)\n",
    "y_pred = my_kmeans.predict(x)\n",
    "print(f'iris:\\nmanual: accuracy = {accuracy(y_pred, y)}%')\n",
    "\n",
    "sklearn_kmeans_full = cluster.KMeans(n_clusters=3, n_init=10, max_iter=300, algorithm='lloyd')\n",
    "sklearn_kmeans_full.fit(x)\n",
    "y_pred = sklearn_kmeans_full.predict(x)\n",
    "print(f'\\nsklearn, full: accuracy = {accuracy(y_pred, y)}%')\n",
    "\n",
    "sklearn_kmeans_elkan = cluster.KMeans(n_clusters=3, n_init=10, max_iter=300, algorithm='elkan')\n",
    "sklearn_kmeans_elkan.fit(x)\n",
    "y_pred = sklearn_kmeans_elkan.predict(x)\n",
    "print(f'\\nsklearn, elkan: accuracy = {accuracy(y_pred, y)}%')"
   ]
  },
  {
   "cell_type": "code",
   "execution_count": 5,
   "id": "5a610c10",
   "metadata": {},
   "outputs": [
    {
     "name": "stdout",
     "output_type": "stream",
     "text": [
      "wine:\n",
      "manual: accuracy = 70.78651685393258%\n",
      "\n",
      "sklearn, full: accuracy = 70.2247191011236%\n",
      "\n",
      "sklearn, elkan: accuracy = 70.2247191011236%\n"
     ]
    }
   ],
   "source": [
    "wine = datasets.load_wine()\n",
    "x = wine['data']\n",
    "y = wine['target']\n",
    "\n",
    "my_kmeans = KMeans(num_clusters=3, num_centroid_seeds=1, metric='l1', max_iter=300)\n",
    "my_kmeans.fit(x)\n",
    "y_pred = my_kmeans.predict(x)\n",
    "print(f'wine:\\nmanual: accuracy = {accuracy(y_pred, y)}%')\n",
    "\n",
    "sklearn_kmeans_full = cluster.KMeans(n_clusters=3, n_init=10, max_iter=300, algorithm='lloyd')\n",
    "sklearn_kmeans_full.fit(x)\n",
    "y_pred = sklearn_kmeans_full.predict(x)\n",
    "print(f'\\nsklearn, full: accuracy = {accuracy(y_pred, y)}%')\n",
    "\n",
    "sklearn_kmeans_elkan = cluster.KMeans(n_clusters=3, n_init=10, max_iter=300, algorithm='elkan')\n",
    "sklearn_kmeans_elkan.fit(x)\n",
    "y_pred = sklearn_kmeans_elkan.predict(x)\n",
    "print(f'\\nsklearn, elkan: accuracy = {accuracy(y_pred, y)}%')"
   ]
  },
  {
   "cell_type": "code",
   "execution_count": 6,
   "id": "f7ad66d3",
   "metadata": {},
   "outputs": [
    {
     "name": "stdout",
     "output_type": "stream",
     "text": [
      "cancer:\n",
      "manual: accuracy = 85.41300527240774%\n",
      "\n",
      "sklearn, full: accuracy = 85.41300527240774%\n",
      "\n",
      "sklearn, elkan: accuracy = 85.41300527240774%\n"
     ]
    }
   ],
   "source": [
    "cancer = datasets.load_breast_cancer()\n",
    "x = cancer['data']\n",
    "y = cancer['target']\n",
    "\n",
    "my_kmeans = KMeans(num_clusters=2, num_centroid_seeds=10, metric='chebyshev', max_iter=300)\n",
    "my_kmeans.fit(x)\n",
    "y_pred = my_kmeans.predict(x)\n",
    "print(f'cancer:\\nmanual: accuracy = {accuracy(y_pred, y)}%')\n",
    "\n",
    "sklearn_kmeans_full = cluster.KMeans(n_clusters=2, n_init=10, max_iter=300, algorithm='lloyd')\n",
    "sklearn_kmeans_full.fit(x)\n",
    "y_pred = sklearn_kmeans_full.predict(x)\n",
    "print(f'\\nsklearn, full: accuracy = {accuracy(y_pred, y)}%')\n",
    "\n",
    "sklearn_kmeans_elkan = cluster.KMeans(n_clusters=2, n_init=10, max_iter=300, algorithm='elkan')\n",
    "sklearn_kmeans_full.fit(x)\n",
    "y_pred = sklearn_kmeans_full.predict(x)\n",
    "print(f'\\nsklearn, elkan: accuracy = {accuracy(y_pred, y)}%')"
   ]
  },
  {
   "cell_type": "code",
   "execution_count": null,
   "id": "4ce7c079",
   "metadata": {},
   "outputs": [],
   "source": []
  }
 ],
 "metadata": {
  "kernelspec": {
   "display_name": "Python 3 (ipykernel)",
   "language": "python",
   "name": "python3"
  },
  "language_info": {
   "codemirror_mode": {
    "name": "ipython",
    "version": 3
   },
   "file_extension": ".py",
   "mimetype": "text/x-python",
   "name": "python",
   "nbconvert_exporter": "python",
   "pygments_lexer": "ipython3",
   "version": "3.9.12"
  }
 },
 "nbformat": 4,
 "nbformat_minor": 5
}
